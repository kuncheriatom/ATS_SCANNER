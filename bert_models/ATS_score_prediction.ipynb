{
  "cells": [
    {
      "cell_type": "code",
      "execution_count": 2,
      "metadata": {
        "colab": {
          "base_uri": "https://localhost:8080/"
        },
        "id": "vzthyb8msWme",
        "outputId": "1b0193ff-b8c7-4297-ae07-2c288c794c99"
      },
      "outputs": [
        {
          "name": "stdout",
          "output_type": "stream",
          "text": [
            "         ID                                         Resume_str  \\\n",
            "0  18176523           SENIOR INFORMATION TECHNOLOGY MANAGER...   \n",
            "1  18176523           SENIOR INFORMATION TECHNOLOGY MANAGER...   \n",
            "2  18176523           SENIOR INFORMATION TECHNOLOGY MANAGER...   \n",
            "3  18176523           SENIOR INFORMATION TECHNOLOGY MANAGER...   \n",
            "4  18176523           SENIOR INFORMATION TECHNOLOGY MANAGER...   \n",
            "\n",
            "                 Category      job_id  \\\n",
            "0  INFORMATION-TECHNOLOGY  3905367422   \n",
            "1  INFORMATION-TECHNOLOGY  3887888322   \n",
            "2  INFORMATION-TECHNOLOGY  3905243094   \n",
            "3  INFORMATION-TECHNOLOGY  3905323971   \n",
            "4  INFORMATION-TECHNOLOGY  3903830212   \n",
            "\n",
            "                                         title  \\\n",
            "0                           Trademark Attorney   \n",
            "1  Delivery Driver / CDL A required / Seasonal   \n",
            "2                             Senior Recruiter   \n",
            "3                Order Fulfillment Coordinator   \n",
            "4       Medical Assistant Urgent Care Per Diem   \n",
            "\n",
            "                                         description  ATS_score  \n",
            "0  Junior Trademark Associate\\nOur client is a to...         21  \n",
            "1  PBNA $25.75 / hour\\n\\nCLICK HERE to view our D...         24  \n",
            "2  Hit a glass ceiling in your earning potential ...         47  \n",
            "3  Are you ready to be a crucial part of our dyna...         51  \n",
            "4  As a physician-founded and led organization, e...         38  \n"
          ]
        }
      ],
      "source": [
        "import pandas as pd\n",
        "\n",
        "# Load your dataset\n",
        "df = pd.read_csv('R:\\Big Data Analytics  Lambton\\Sem 3\\AML 2034 - Bhavik Gandhi\\Project\\db1_ats.csv')\n",
        "print(df.head())\n"
      ]
    },
    {
      "cell_type": "code",
      "execution_count": 3,
      "metadata": {
        "id": "yUZcrYSfuzTn"
      },
      "outputs": [],
      "source": [
        "# Remove Non-Grammatical Symbols\n",
        "import re\n",
        "\n",
        "def remove_non_grammatical(text):\n",
        "    text = re.sub(r'http\\S+|www\\S+|@\\S+|\\S+.com', '', text)\n",
        "    return text\n",
        "\n",
        "# Apply to the relevant columns\n",
        "df['Resume_str'] = df['Resume_str'].apply(remove_non_grammatical)\n",
        "df['description'] = df['description'].apply(remove_non_grammatical)\n"
      ]
    },
    {
      "cell_type": "code",
      "execution_count": 4,
      "metadata": {
        "id": "PE2oZj7CSS3s"
      },
      "outputs": [],
      "source": [
        "# Handling Slangs, Abbreviations, and Emojis\n",
        "\n"
      ]
    },
    {
      "cell_type": "code",
      "execution_count": 5,
      "metadata": {
        "id": "P9MEZ_Pxu99k"
      },
      "outputs": [],
      "source": [
        "# Spell Correction\n",
        "\n",
        "\n",
        "\n"
      ]
    },
    {
      "cell_type": "code",
      "execution_count": 6,
      "metadata": {
        "colab": {
          "base_uri": "https://localhost:8080/"
        },
        "id": "KMSiBjHnvrUk",
        "outputId": "4da9b368-d7cb-4ad2-9997-f4b575c56be9"
      },
      "outputs": [
        {
          "name": "stderr",
          "output_type": "stream",
          "text": [
            "[nltk_data] Downloading package punkt to C:\\Users\\Rohit\n",
            "[nltk_data]     Kumar\\AppData\\Roaming\\nltk_data...\n",
            "[nltk_data]   Package punkt is already up-to-date!\n"
          ]
        }
      ],
      "source": [
        "#Split the text into individual tokens\n",
        "from nltk.tokenize import word_tokenize\n",
        "import nltk\n",
        "\n",
        "nltk.download('punkt')\n",
        "\n",
        "def tokenize_text(text):\n",
        "    return word_tokenize(text)\n",
        "\n",
        "# Apply to the relevant columns\n",
        "df['Resume_str'] = df['Resume_str'].apply(tokenize_text)\n",
        "df['description'] = df['description'].apply(tokenize_text)\n"
      ]
    },
    {
      "cell_type": "code",
      "execution_count": 7,
      "metadata": {
        "id": "vXJGKwimQmdv"
      },
      "outputs": [],
      "source": [
        "#Convert all text to lowercase to ensure uniformity\n",
        "def to_lowercase(text):\n",
        "    return [word.lower() for word in text]\n",
        "\n",
        "# Apply to the relevant columns\n",
        "df['Resume_str'] = df['Resume_str'].apply(to_lowercase)\n",
        "df['description'] = df['description'].apply(to_lowercase)\n"
      ]
    },
    {
      "cell_type": "code",
      "execution_count": 8,
      "metadata": {
        "colab": {
          "base_uri": "https://localhost:8080/"
        },
        "id": "wKBYNub9Qr0y",
        "outputId": "51c67a18-e3ce-4a8f-f387-c15f36ef36d4"
      },
      "outputs": [
        {
          "name": "stderr",
          "output_type": "stream",
          "text": [
            "[nltk_data] Downloading package stopwords to C:\\Users\\Rohit\n",
            "[nltk_data]     Kumar\\AppData\\Roaming\\nltk_data...\n",
            "[nltk_data]   Package stopwords is already up-to-date!\n"
          ]
        }
      ],
      "source": [
        "#Remove common stop words that do not add significant meaning\n",
        "from nltk.corpus import stopwords\n",
        "\n",
        "nltk.download('stopwords')\n",
        "stop_words = set(stopwords.words('english'))\n",
        "\n",
        "def remove_stopwords(text):\n",
        "    return [word for word in text if word not in stop_words]\n",
        "\n",
        "# Apply to the relevant columns\n",
        "df['Resume_str'] = df['Resume_str'].apply(remove_stopwords)\n",
        "df['description'] = df['description'].apply(remove_stopwords)\n"
      ]
    },
    {
      "cell_type": "code",
      "execution_count": 9,
      "metadata": {
        "colab": {
          "base_uri": "https://localhost:8080/"
        },
        "id": "3_v6a0fpQrxY",
        "outputId": "5d8d21d5-f9f5-4988-8884-ba559f9830ff"
      },
      "outputs": [
        {
          "name": "stderr",
          "output_type": "stream",
          "text": [
            "[nltk_data] Downloading package wordnet to C:\\Users\\Rohit\n",
            "[nltk_data]     Kumar\\AppData\\Roaming\\nltk_data...\n",
            "[nltk_data]   Package wordnet is already up-to-date!\n"
          ]
        }
      ],
      "source": [
        "# Reduce words to their base form\n",
        "\n",
        "from nltk.stem import WordNetLemmatizer\n",
        "\n",
        "nltk.download('wordnet')\n",
        "lemmatizer = WordNetLemmatizer()\n",
        "\n",
        "def lemmatize_text(text):\n",
        "    return [lemmatizer.lemmatize(word) for word in text]\n",
        "\n",
        "# Apply to the relevant columns\n",
        "df['Resume_str'] = df['Resume_str'].apply(lemmatize_text)\n",
        "df['description'] = df['description'].apply(lemmatize_text)\n"
      ]
    },
    {
      "cell_type": "code",
      "execution_count": 10,
      "metadata": {
        "id": "jTTFq0lcQrvE"
      },
      "outputs": [],
      "source": [
        "#After preprocessing, join the tokens back into strings for embedding\n",
        "def tokens_to_string(tokens):\n",
        "    return ' '.join(tokens)\n",
        "\n",
        "df['Resume_str'] = df['Resume_str'].apply(tokens_to_string)\n",
        "df['description'] = df['description'].apply(tokens_to_string)\n"
      ]
    },
    {
      "cell_type": "code",
      "execution_count": 12,
      "metadata": {
        "id": "K7ZtuMrHQrst"
      },
      "outputs": [
        {
          "name": "stderr",
          "output_type": "stream",
          "text": [
            "Some weights of the PyTorch model were not used when initializing the TF 2.0 model TFBertModel: ['cls.predictions.transform.dense.weight', 'cls.predictions.bias', 'cls.predictions.transform.LayerNorm.bias', 'cls.predictions.transform.LayerNorm.weight', 'cls.seq_relationship.weight', 'cls.predictions.transform.dense.bias', 'cls.seq_relationship.bias']\n",
            "- This IS expected if you are initializing TFBertModel from a PyTorch model trained on another task or with another architecture (e.g. initializing a TFBertForSequenceClassification model from a BertForPreTraining model).\n",
            "- This IS NOT expected if you are initializing TFBertModel from a PyTorch model that you expect to be exactly identical (e.g. initializing a TFBertForSequenceClassification model from a BertForSequenceClassification model).\n",
            "All the weights of TFBertModel were initialized from the PyTorch model.\n",
            "If your task is similar to the task the model of the checkpoint was trained on, you can already use TFBertModel for predictions without further training.\n"
          ]
        }
      ],
      "source": [
        "# Use pre-trained BERT to encode the texts\n",
        "from transformers import BertTokenizer, TFBertModel\n",
        "import tensorflow as tf\n",
        "\n",
        "tokenizer = BertTokenizer.from_pretrained('bert-base-uncased')\n",
        "bert_model = TFBertModel.from_pretrained('bert-base-uncased')\n",
        "\n",
        "def encode_texts(texts, tokenizer, max_len=128):\n",
        "    encoded_inputs = tokenizer(texts.tolist(), truncation=True, padding=True, max_length=max_len, return_tensors='tf')\n",
        "    return encoded_inputs['input_ids'], encoded_inputs['attention_mask']\n",
        "\n",
        "# Encode the text columns\n",
        "resume_ids, resume_masks = encode_texts(df['Resume_str'], tokenizer)\n",
        "desc_ids, desc_masks = encode_texts(df['description'], tokenizer)\n"
      ]
    },
    {
      "cell_type": "markdown",
      "metadata": {
        "id": "udSYSR-BTVEz"
      },
      "source": [
        "### Model Building"
      ]
    },
    {
      "cell_type": "code",
      "execution_count": 13,
      "metadata": {
        "id": "fCk6Pue-QrqH"
      },
      "outputs": [],
      "source": [
        "from sklearn.model_selection import train_test_split\n",
        "\n",
        "# Split the data\n",
        "train_df, val_df = train_test_split(df, test_size=0.2, random_state=42)\n",
        "\n",
        "# Encode the training and validation texts\n",
        "train_resume_ids, train_resume_masks = encode_texts(train_df['Resume_str'], tokenizer)\n",
        "train_desc_ids, train_desc_masks = encode_texts(train_df['description'], tokenizer)\n",
        "\n",
        "val_resume_ids, val_resume_masks = encode_texts(val_df['Resume_str'], tokenizer)\n",
        "val_desc_ids, val_desc_masks = encode_texts(val_df['description'], tokenizer)\n",
        "\n",
        "# Extract the ATS scores\n",
        "train_ats_scores = train_df['ATS_score'].values\n",
        "val_ats_scores = val_df['ATS_score'].values\n"
      ]
    },
    {
      "cell_type": "code",
      "execution_count": 14,
      "metadata": {
        "id": "m3iWnvJ3RukJ"
      },
      "outputs": [
        {
          "name": "stdout",
          "output_type": "stream",
          "text": [
            "Model: \"model\"\n",
            "__________________________________________________________________________________________________\n",
            " Layer (type)                Output Shape                 Param #   Connected to                  \n",
            "==================================================================================================\n",
            " input_ids (InputLayer)      [(None, 128)]                0         []                            \n",
            "                                                                                                  \n",
            " attention_mask (InputLayer  [(None, 128)]                0         []                            \n",
            " )                                                                                                \n",
            "                                                                                                  \n",
            " tf_bert_model_1 (TFBertMod  TFBaseModelOutputWithPooli   1094822   ['input_ids[0][0]',           \n",
            " el)                         ngAndCrossAttentions(last_   40         'attention_mask[0][0]']      \n",
            "                             hidden_state=(None, 128, 7                                           \n",
            "                             68),                                                                 \n",
            "                              pooler_output=(None, 768)                                           \n",
            "                             , past_key_values=None, hi                                           \n",
            "                             dden_states=None, attentio                                           \n",
            "                             ns=None, cross_attentions=                                           \n",
            "                             None)                                                                \n",
            "                                                                                                  \n",
            " tf.__operators__.getitem (  (None, 768)                  0         ['tf_bert_model_1[0][0]']     \n",
            " SlicingOpLambda)                                                                                 \n",
            "                                                                                                  \n",
            " dense (Dense)               (None, 64)                   49216     ['tf.__operators__.getitem[0][\n",
            "                                                                    0]']                          \n",
            "                                                                                                  \n",
            " dropout_74 (Dropout)        (None, 64)                   0         ['dense[0][0]']               \n",
            "                                                                                                  \n",
            " dense_1 (Dense)             (None, 1)                    65        ['dropout_74[0][0]']          \n",
            "                                                                                                  \n",
            "==================================================================================================\n",
            "Total params: 109531521 (417.83 MB)\n",
            "Trainable params: 109531521 (417.83 MB)\n",
            "Non-trainable params: 0 (0.00 Byte)\n",
            "__________________________________________________________________________________________________\n"
          ]
        }
      ],
      "source": [
        "def create_model(bert_model):\n",
        "    input_ids = tf.keras.Input(shape=(128,), dtype=tf.int32, name='input_ids')\n",
        "    attention_mask = tf.keras.Input(shape=(128,), dtype=tf.int32, name='attention_mask')\n",
        "\n",
        "    bert_output = bert_model(input_ids, attention_mask=attention_mask)\n",
        "    cls_token = bert_output.last_hidden_state[:, 0, :]\n",
        "\n",
        "    dense = tf.keras.layers.Dense(64, activation='relu')(cls_token)\n",
        "    dropout = tf.keras.layers.Dropout(0.3)(dense)\n",
        "    output = tf.keras.layers.Dense(1, activation='linear')(dropout)\n",
        "\n",
        "    model = tf.keras.Model(inputs=[input_ids, attention_mask], outputs=output)\n",
        "    model.compile(optimizer=tf.keras.optimizers.Adam(learning_rate=1e-5), loss='mse', metrics=['mae'])\n",
        "\n",
        "    return model\n",
        "\n",
        "# Create the model\n",
        "model = create_model(bert_model)\n",
        "model.summary()\n"
      ]
    },
    {
      "cell_type": "code",
      "execution_count": 15,
      "metadata": {
        "id": "lllijDzzRugs"
      },
      "outputs": [
        {
          "name": "stdout",
          "output_type": "stream",
          "text": [
            "WARNING:tensorflow:From c:\\Users\\Rohit Kumar\\AppData\\Local\\Programs\\Python\\Python311\\Lib\\site-packages\\tf_keras\\src\\utils\\tf_utils.py:492: The name tf.ragged.RaggedTensorValue is deprecated. Please use tf.compat.v1.ragged.RaggedTensorValue instead.\n",
            "\n",
            "WARNING:tensorflow:Gradients do not exist for variables ['tf_bert_model_1/bert/pooler/dense/kernel:0', 'tf_bert_model_1/bert/pooler/dense/bias:0'] when minimizing the loss. If you're using `model.compile()`, did you forget to provide a `loss` argument?\n",
            "WARNING:tensorflow:Gradients do not exist for variables ['tf_bert_model_1/bert/pooler/dense/kernel:0', 'tf_bert_model_1/bert/pooler/dense/bias:0'] when minimizing the loss. If you're using `model.compile()`, did you forget to provide a `loss` argument?\n",
            "WARNING:tensorflow:From c:\\Users\\Rohit Kumar\\AppData\\Local\\Programs\\Python\\Python311\\Lib\\site-packages\\tf_keras\\src\\engine\\base_layer_utils.py:384: The name tf.executing_eagerly_outside_functions is deprecated. Please use tf.compat.v1.executing_eagerly_outside_functions instead.\n",
            "\n",
            "WARNING:tensorflow:Gradients do not exist for variables ['tf_bert_model_1/bert/pooler/dense/kernel:0', 'tf_bert_model_1/bert/pooler/dense/bias:0'] when minimizing the loss. If you're using `model.compile()`, did you forget to provide a `loss` argument?\n",
            "WARNING:tensorflow:Gradients do not exist for variables ['tf_bert_model_1/bert/pooler/dense/kernel:0', 'tf_bert_model_1/bert/pooler/dense/bias:0'] when minimizing the loss. If you're using `model.compile()`, did you forget to provide a `loss` argument?\n",
            "250/250 [==============================] - 2431s 10s/step - loss: 273.4660 - mae: 13.3437 - val_loss: 141.6805 - val_mae: 9.6722\n"
          ]
        }
      ],
      "source": [
        "history = model.fit(\n",
        "    [train_resume_ids, train_resume_masks], train_ats_scores,\n",
        "    validation_data=([val_resume_ids, val_resume_masks], val_ats_scores),\n",
        "    epochs=1,  # Adjust based on your needs\n",
        "    batch_size= 32 # Adjust based on your hardware capabilities\n",
        ")\n"
      ]
    },
    {
      "cell_type": "code",
      "execution_count": 16,
      "metadata": {
        "id": "EOt0jewkRud2"
      },
      "outputs": [
        {
          "name": "stdout",
          "output_type": "stream",
          "text": [
            "63/63 [==============================] - 169s 3s/step - loss: 141.6805 - mae: 9.6722\n",
            "Validation Loss: 141.6805419921875, Validation MAE: 9.672205924987793\n"
          ]
        }
      ],
      "source": [
        "val_loss, val_mae = model.evaluate([val_resume_ids, val_resume_masks], val_ats_scores)\n",
        "print(f'Validation Loss: {val_loss}, Validation MAE: {val_mae}')\n"
      ]
    },
    {
      "cell_type": "code",
      "execution_count": null,
      "metadata": {
        "id": "mAXOpVK1RuY6"
      },
      "outputs": [],
      "source": []
    },
    {
      "cell_type": "code",
      "execution_count": null,
      "metadata": {
        "id": "gQeCPKVGRuWk"
      },
      "outputs": [],
      "source": []
    },
    {
      "cell_type": "code",
      "execution_count": null,
      "metadata": {
        "id": "vV1q08TpRuUB"
      },
      "outputs": [],
      "source": []
    },
    {
      "cell_type": "code",
      "execution_count": null,
      "metadata": {
        "id": "UhnYyiahRuOh"
      },
      "outputs": [],
      "source": []
    },
    {
      "cell_type": "code",
      "execution_count": null,
      "metadata": {
        "id": "DKSel2Bv2NGT"
      },
      "outputs": [],
      "source": []
    }
  ],
  "metadata": {
    "accelerator": "GPU",
    "colab": {
      "gpuType": "T4",
      "provenance": []
    },
    "kernelspec": {
      "display_name": "Python 3",
      "name": "python3"
    },
    "language_info": {
      "codemirror_mode": {
        "name": "ipython",
        "version": 3
      },
      "file_extension": ".py",
      "mimetype": "text/x-python",
      "name": "python",
      "nbconvert_exporter": "python",
      "pygments_lexer": "ipython3",
      "version": "3.11.3"
    }
  },
  "nbformat": 4,
  "nbformat_minor": 0
}
