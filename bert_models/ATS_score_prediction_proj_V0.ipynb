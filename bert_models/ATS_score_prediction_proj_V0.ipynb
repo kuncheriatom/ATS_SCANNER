{
  "nbformat": 4,
  "nbformat_minor": 0,
  "metadata": {
    "colab": {
      "provenance": []
    },
    "kernelspec": {
      "name": "python3",
      "display_name": "Python 3"
    },
    "language_info": {
      "name": "python"
    }
  },
  "cells": [
    {
      "cell_type": "code",
      "source": [
        "import pandas as pd\n",
        "import numpy as np\n",
        "import torch\n",
        "from torch.utils.data import DataLoader, Dataset\n",
        "from transformers import BertTokenizer, BertModel, AdamW\n",
        "from sklearn.model_selection import train_test_split\n",
        "from sklearn.metrics import mean_squared_error\n",
        "\n"
      ],
      "metadata": {
        "id": "4CoiRpbQ2gS0"
      },
      "execution_count": 1,
      "outputs": []
    },
    {
      "cell_type": "code",
      "source": [
        "# Load data\n",
        "data = pd.read_csv('/content/db1.csv')"
      ],
      "metadata": {
        "id": "EbC0O8U32gVJ"
      },
      "execution_count": 2,
      "outputs": []
    },
    {
      "cell_type": "code",
      "source": [
        "data.head(5)"
      ],
      "metadata": {
        "colab": {
          "base_uri": "https://localhost:8080/",
          "height": 466
        },
        "id": "T5usLw8H2gX6",
        "outputId": "ea7463e9-1c7b-4879-fd73-986e5bda9ae8"
      },
      "execution_count": 3,
      "outputs": [
        {
          "output_type": "execute_result",
          "data": {
            "text/plain": [
              "         ID                                         Resume_str  \\\n",
              "0  18176523           SENIOR INFORMATION TECHNOLOGY MANAGER...   \n",
              "1  18176523           SENIOR INFORMATION TECHNOLOGY MANAGER...   \n",
              "2  18176523           SENIOR INFORMATION TECHNOLOGY MANAGER...   \n",
              "3  18176523           SENIOR INFORMATION TECHNOLOGY MANAGER...   \n",
              "4  18176523           SENIOR INFORMATION TECHNOLOGY MANAGER...   \n",
              "\n",
              "                 Category      job_id  \\\n",
              "0  INFORMATION-TECHNOLOGY  3905367422   \n",
              "1  INFORMATION-TECHNOLOGY  3887888322   \n",
              "2  INFORMATION-TECHNOLOGY  3905243094   \n",
              "3  INFORMATION-TECHNOLOGY  3905323971   \n",
              "4  INFORMATION-TECHNOLOGY  3903830212   \n",
              "\n",
              "                                         title  \\\n",
              "0                           Trademark Attorney   \n",
              "1  Delivery Driver / CDL A required / Seasonal   \n",
              "2                             Senior Recruiter   \n",
              "3                Order Fulfillment Coordinator   \n",
              "4       Medical Assistant Urgent Care Per Diem   \n",
              "\n",
              "                                         description  ATS_score  \n",
              "0  Junior Trademark Associate\\nOur client is a to...         21  \n",
              "1  PBNA $25.75 / hour\\n\\nCLICK HERE to view our D...         24  \n",
              "2  Hit a glass ceiling in your earning potential ...         47  \n",
              "3  Are you ready to be a crucial part of our dyna...         51  \n",
              "4  As a physician-founded and led organization, e...         38  "
            ],
            "text/html": [
              "\n",
              "  <div id=\"df-fcf6767f-c7c0-4735-b7da-2af286461a68\" class=\"colab-df-container\">\n",
              "    <div>\n",
              "<style scoped>\n",
              "    .dataframe tbody tr th:only-of-type {\n",
              "        vertical-align: middle;\n",
              "    }\n",
              "\n",
              "    .dataframe tbody tr th {\n",
              "        vertical-align: top;\n",
              "    }\n",
              "\n",
              "    .dataframe thead th {\n",
              "        text-align: right;\n",
              "    }\n",
              "</style>\n",
              "<table border=\"1\" class=\"dataframe\">\n",
              "  <thead>\n",
              "    <tr style=\"text-align: right;\">\n",
              "      <th></th>\n",
              "      <th>ID</th>\n",
              "      <th>Resume_str</th>\n",
              "      <th>Category</th>\n",
              "      <th>job_id</th>\n",
              "      <th>title</th>\n",
              "      <th>description</th>\n",
              "      <th>ATS_score</th>\n",
              "    </tr>\n",
              "  </thead>\n",
              "  <tbody>\n",
              "    <tr>\n",
              "      <th>0</th>\n",
              "      <td>18176523</td>\n",
              "      <td>SENIOR INFORMATION TECHNOLOGY MANAGER...</td>\n",
              "      <td>INFORMATION-TECHNOLOGY</td>\n",
              "      <td>3905367422</td>\n",
              "      <td>Trademark Attorney</td>\n",
              "      <td>Junior Trademark Associate\\nOur client is a to...</td>\n",
              "      <td>21</td>\n",
              "    </tr>\n",
              "    <tr>\n",
              "      <th>1</th>\n",
              "      <td>18176523</td>\n",
              "      <td>SENIOR INFORMATION TECHNOLOGY MANAGER...</td>\n",
              "      <td>INFORMATION-TECHNOLOGY</td>\n",
              "      <td>3887888322</td>\n",
              "      <td>Delivery Driver / CDL A required / Seasonal</td>\n",
              "      <td>PBNA $25.75 / hour\\n\\nCLICK HERE to view our D...</td>\n",
              "      <td>24</td>\n",
              "    </tr>\n",
              "    <tr>\n",
              "      <th>2</th>\n",
              "      <td>18176523</td>\n",
              "      <td>SENIOR INFORMATION TECHNOLOGY MANAGER...</td>\n",
              "      <td>INFORMATION-TECHNOLOGY</td>\n",
              "      <td>3905243094</td>\n",
              "      <td>Senior Recruiter</td>\n",
              "      <td>Hit a glass ceiling in your earning potential ...</td>\n",
              "      <td>47</td>\n",
              "    </tr>\n",
              "    <tr>\n",
              "      <th>3</th>\n",
              "      <td>18176523</td>\n",
              "      <td>SENIOR INFORMATION TECHNOLOGY MANAGER...</td>\n",
              "      <td>INFORMATION-TECHNOLOGY</td>\n",
              "      <td>3905323971</td>\n",
              "      <td>Order Fulfillment Coordinator</td>\n",
              "      <td>Are you ready to be a crucial part of our dyna...</td>\n",
              "      <td>51</td>\n",
              "    </tr>\n",
              "    <tr>\n",
              "      <th>4</th>\n",
              "      <td>18176523</td>\n",
              "      <td>SENIOR INFORMATION TECHNOLOGY MANAGER...</td>\n",
              "      <td>INFORMATION-TECHNOLOGY</td>\n",
              "      <td>3903830212</td>\n",
              "      <td>Medical Assistant Urgent Care Per Diem</td>\n",
              "      <td>As a physician-founded and led organization, e...</td>\n",
              "      <td>38</td>\n",
              "    </tr>\n",
              "  </tbody>\n",
              "</table>\n",
              "</div>\n",
              "    <div class=\"colab-df-buttons\">\n",
              "\n",
              "  <div class=\"colab-df-container\">\n",
              "    <button class=\"colab-df-convert\" onclick=\"convertToInteractive('df-fcf6767f-c7c0-4735-b7da-2af286461a68')\"\n",
              "            title=\"Convert this dataframe to an interactive table.\"\n",
              "            style=\"display:none;\">\n",
              "\n",
              "  <svg xmlns=\"http://www.w3.org/2000/svg\" height=\"24px\" viewBox=\"0 -960 960 960\">\n",
              "    <path d=\"M120-120v-720h720v720H120Zm60-500h600v-160H180v160Zm220 220h160v-160H400v160Zm0 220h160v-160H400v160ZM180-400h160v-160H180v160Zm440 0h160v-160H620v160ZM180-180h160v-160H180v160Zm440 0h160v-160H620v160Z\"/>\n",
              "  </svg>\n",
              "    </button>\n",
              "\n",
              "  <style>\n",
              "    .colab-df-container {\n",
              "      display:flex;\n",
              "      gap: 12px;\n",
              "    }\n",
              "\n",
              "    .colab-df-convert {\n",
              "      background-color: #E8F0FE;\n",
              "      border: none;\n",
              "      border-radius: 50%;\n",
              "      cursor: pointer;\n",
              "      display: none;\n",
              "      fill: #1967D2;\n",
              "      height: 32px;\n",
              "      padding: 0 0 0 0;\n",
              "      width: 32px;\n",
              "    }\n",
              "\n",
              "    .colab-df-convert:hover {\n",
              "      background-color: #E2EBFA;\n",
              "      box-shadow: 0px 1px 2px rgba(60, 64, 67, 0.3), 0px 1px 3px 1px rgba(60, 64, 67, 0.15);\n",
              "      fill: #174EA6;\n",
              "    }\n",
              "\n",
              "    .colab-df-buttons div {\n",
              "      margin-bottom: 4px;\n",
              "    }\n",
              "\n",
              "    [theme=dark] .colab-df-convert {\n",
              "      background-color: #3B4455;\n",
              "      fill: #D2E3FC;\n",
              "    }\n",
              "\n",
              "    [theme=dark] .colab-df-convert:hover {\n",
              "      background-color: #434B5C;\n",
              "      box-shadow: 0px 1px 3px 1px rgba(0, 0, 0, 0.15);\n",
              "      filter: drop-shadow(0px 1px 2px rgba(0, 0, 0, 0.3));\n",
              "      fill: #FFFFFF;\n",
              "    }\n",
              "  </style>\n",
              "\n",
              "    <script>\n",
              "      const buttonEl =\n",
              "        document.querySelector('#df-fcf6767f-c7c0-4735-b7da-2af286461a68 button.colab-df-convert');\n",
              "      buttonEl.style.display =\n",
              "        google.colab.kernel.accessAllowed ? 'block' : 'none';\n",
              "\n",
              "      async function convertToInteractive(key) {\n",
              "        const element = document.querySelector('#df-fcf6767f-c7c0-4735-b7da-2af286461a68');\n",
              "        const dataTable =\n",
              "          await google.colab.kernel.invokeFunction('convertToInteractive',\n",
              "                                                    [key], {});\n",
              "        if (!dataTable) return;\n",
              "\n",
              "        const docLinkHtml = 'Like what you see? Visit the ' +\n",
              "          '<a target=\"_blank\" href=https://colab.research.google.com/notebooks/data_table.ipynb>data table notebook</a>'\n",
              "          + ' to learn more about interactive tables.';\n",
              "        element.innerHTML = '';\n",
              "        dataTable['output_type'] = 'display_data';\n",
              "        await google.colab.output.renderOutput(dataTable, element);\n",
              "        const docLink = document.createElement('div');\n",
              "        docLink.innerHTML = docLinkHtml;\n",
              "        element.appendChild(docLink);\n",
              "      }\n",
              "    </script>\n",
              "  </div>\n",
              "\n",
              "\n",
              "<div id=\"df-7a57ea0e-42d4-4812-aa6e-e5397a3d994b\">\n",
              "  <button class=\"colab-df-quickchart\" onclick=\"quickchart('df-7a57ea0e-42d4-4812-aa6e-e5397a3d994b')\"\n",
              "            title=\"Suggest charts\"\n",
              "            style=\"display:none;\">\n",
              "\n",
              "<svg xmlns=\"http://www.w3.org/2000/svg\" height=\"24px\"viewBox=\"0 0 24 24\"\n",
              "     width=\"24px\">\n",
              "    <g>\n",
              "        <path d=\"M19 3H5c-1.1 0-2 .9-2 2v14c0 1.1.9 2 2 2h14c1.1 0 2-.9 2-2V5c0-1.1-.9-2-2-2zM9 17H7v-7h2v7zm4 0h-2V7h2v10zm4 0h-2v-4h2v4z\"/>\n",
              "    </g>\n",
              "</svg>\n",
              "  </button>\n",
              "\n",
              "<style>\n",
              "  .colab-df-quickchart {\n",
              "      --bg-color: #E8F0FE;\n",
              "      --fill-color: #1967D2;\n",
              "      --hover-bg-color: #E2EBFA;\n",
              "      --hover-fill-color: #174EA6;\n",
              "      --disabled-fill-color: #AAA;\n",
              "      --disabled-bg-color: #DDD;\n",
              "  }\n",
              "\n",
              "  [theme=dark] .colab-df-quickchart {\n",
              "      --bg-color: #3B4455;\n",
              "      --fill-color: #D2E3FC;\n",
              "      --hover-bg-color: #434B5C;\n",
              "      --hover-fill-color: #FFFFFF;\n",
              "      --disabled-bg-color: #3B4455;\n",
              "      --disabled-fill-color: #666;\n",
              "  }\n",
              "\n",
              "  .colab-df-quickchart {\n",
              "    background-color: var(--bg-color);\n",
              "    border: none;\n",
              "    border-radius: 50%;\n",
              "    cursor: pointer;\n",
              "    display: none;\n",
              "    fill: var(--fill-color);\n",
              "    height: 32px;\n",
              "    padding: 0;\n",
              "    width: 32px;\n",
              "  }\n",
              "\n",
              "  .colab-df-quickchart:hover {\n",
              "    background-color: var(--hover-bg-color);\n",
              "    box-shadow: 0 1px 2px rgba(60, 64, 67, 0.3), 0 1px 3px 1px rgba(60, 64, 67, 0.15);\n",
              "    fill: var(--button-hover-fill-color);\n",
              "  }\n",
              "\n",
              "  .colab-df-quickchart-complete:disabled,\n",
              "  .colab-df-quickchart-complete:disabled:hover {\n",
              "    background-color: var(--disabled-bg-color);\n",
              "    fill: var(--disabled-fill-color);\n",
              "    box-shadow: none;\n",
              "  }\n",
              "\n",
              "  .colab-df-spinner {\n",
              "    border: 2px solid var(--fill-color);\n",
              "    border-color: transparent;\n",
              "    border-bottom-color: var(--fill-color);\n",
              "    animation:\n",
              "      spin 1s steps(1) infinite;\n",
              "  }\n",
              "\n",
              "  @keyframes spin {\n",
              "    0% {\n",
              "      border-color: transparent;\n",
              "      border-bottom-color: var(--fill-color);\n",
              "      border-left-color: var(--fill-color);\n",
              "    }\n",
              "    20% {\n",
              "      border-color: transparent;\n",
              "      border-left-color: var(--fill-color);\n",
              "      border-top-color: var(--fill-color);\n",
              "    }\n",
              "    30% {\n",
              "      border-color: transparent;\n",
              "      border-left-color: var(--fill-color);\n",
              "      border-top-color: var(--fill-color);\n",
              "      border-right-color: var(--fill-color);\n",
              "    }\n",
              "    40% {\n",
              "      border-color: transparent;\n",
              "      border-right-color: var(--fill-color);\n",
              "      border-top-color: var(--fill-color);\n",
              "    }\n",
              "    60% {\n",
              "      border-color: transparent;\n",
              "      border-right-color: var(--fill-color);\n",
              "    }\n",
              "    80% {\n",
              "      border-color: transparent;\n",
              "      border-right-color: var(--fill-color);\n",
              "      border-bottom-color: var(--fill-color);\n",
              "    }\n",
              "    90% {\n",
              "      border-color: transparent;\n",
              "      border-bottom-color: var(--fill-color);\n",
              "    }\n",
              "  }\n",
              "</style>\n",
              "\n",
              "  <script>\n",
              "    async function quickchart(key) {\n",
              "      const quickchartButtonEl =\n",
              "        document.querySelector('#' + key + ' button');\n",
              "      quickchartButtonEl.disabled = true;  // To prevent multiple clicks.\n",
              "      quickchartButtonEl.classList.add('colab-df-spinner');\n",
              "      try {\n",
              "        const charts = await google.colab.kernel.invokeFunction(\n",
              "            'suggestCharts', [key], {});\n",
              "      } catch (error) {\n",
              "        console.error('Error during call to suggestCharts:', error);\n",
              "      }\n",
              "      quickchartButtonEl.classList.remove('colab-df-spinner');\n",
              "      quickchartButtonEl.classList.add('colab-df-quickchart-complete');\n",
              "    }\n",
              "    (() => {\n",
              "      let quickchartButtonEl =\n",
              "        document.querySelector('#df-7a57ea0e-42d4-4812-aa6e-e5397a3d994b button');\n",
              "      quickchartButtonEl.style.display =\n",
              "        google.colab.kernel.accessAllowed ? 'block' : 'none';\n",
              "    })();\n",
              "  </script>\n",
              "</div>\n",
              "\n",
              "    </div>\n",
              "  </div>\n"
            ],
            "application/vnd.google.colaboratory.intrinsic+json": {
              "type": "dataframe",
              "variable_name": "data",
              "summary": "{\n  \"name\": \"data\",\n  \"rows\": 10000,\n  \"fields\": [\n    {\n      \"column\": \"ID\",\n      \"properties\": {\n        \"dtype\": \"number\",\n        \"std\": 19839112,\n        \"min\": 10062724,\n        \"max\": 99033098,\n        \"num_unique_values\": 100,\n        \"samples\": [\n          25315791,\n          20918464,\n          22008817\n        ],\n        \"semantic_type\": \"\",\n        \"description\": \"\"\n      }\n    },\n    {\n      \"column\": \"Resume_str\",\n      \"properties\": {\n        \"dtype\": \"category\",\n        \"num_unique_values\": 100,\n        \"samples\": [\n          \"         SALES ASSOCIATE       Professional Summary    I am talented individual who will bring my sales talent, fashion sense, and passion for clothing to your company. i have a proven track record of success in sales .i am looking for suitable position with a company that offers there staff superb career opportunities, job enrichment and a supportive work environment.\\u00a0      Core Qualifications          Sales expertise  Accurate money handling  Team player mentality   Reliable and dependable       Goal-oriented  Excellent communication skills  Sales force training  Persuasive communication expertise            Experience      SALES ASSOCIATE     04/2015   to   05/2016      Company Name   City  ,   State      Responsible for actively promoting and selling the company's products to a wide range of customers in a very competitive market place.  Contacting potential customers that have shown an interest in the company's products and then selling to them.  Actively seeking new accounts in a wide variety of locations.  Updating of customer information in paper records and on computer databases.  Handling the complete sales process.  Researching new market and sales opportunities.  Educating clients on the company's products and services.  Converting prospects into active clients.  Keeping in touch with customers via a range of mediums such as phone calls, letters, Email and SMS.  Executing an organized, efficient and structured sales process making outbound sales calls.         Sale/Customer Service Representative     12/2012   to   05/2015      Company Name   City  ,   State      Serviced existing accounts, obtained orders, and established new accounts by planning and organized daily work schedule to call on existing or potential sales outlets and other trade factors.  Established or identified prices of goods, services or admission, and tabulate bills using calculators, cash registers, or optical price scanners.  Received payment by cash, check, credit cards Issue receipts, refunds, credits, or change due to customers.  Submitted orders by referring to price lists and product literature.  Kept management informed by submitting activity and results reports, such as daily call reports, weekly work plans, and monthly and annual territory analyses.  Monitored competition by gathering current marketplace information on pricing, new products.  Recommend changes in products, service, and policy by evaluating results and competitive developments.  Maximized sales opportunities through outstanding customer service.  Established and maintain good customer relations, with both internal and external customers.  Spent time in the field promoting demonstrating company products.         Sales Associate/ Customer Representative     10/2010   to   02/2011      Company Name   City  ,   State      Ensure that each customer receives outstanding service by providing a friendly environment, which includes greeting and acknowledging every customer.  Maintain an awareness of all promotions and advertisements.  Receive payment by cash, check, credit cards Issue receipts, refunds, credits, or change due to customers.         Education      High School Diploma     June 2009     Charles Churn Christian Academy                  Skills    advertisements, calculators, cash registers, competitive, credit, clients, customer relations, customer service, databases, Email, Issue receipts, letters, market, market and sales, pricing, Researching, selling, sales, scanners, SMS, structured, phone   \",\n          \"         SENIOR ACCOUNTANT / FINANCE CONTROLLER       Summary                    Aim to work for a progressive organization in a growth oriented position that gives enough scope to sharpen my skill accordingly to the latest demands at the same time to work towards the growth of the organization and To seek challenging avenues where, my knowledge and experience matches with the organization's growth and to continue for the achievement of organizational goals with the betterment career prospects.       Highlights          MS-Word, MS-Excel.  Windows.  Internet  Software & Hardware  tally  peach tree  manual accounting  leadeship       Well knowledge in Complete ERP system ,  Working closely with the Accounting modules as per business rules.   Ample to knowledge on basic computer applications use full in the day-to-day office administration  Created and maintained an efficient communication system within the assigned department, and across other departments.  Well knowledge in various accounting software's             Accomplishments      Title                           :   a study on working capital management   Client                          :   ULCCS Private Limited (45 Days Duration 2012)  Description                : The project entitled \\u201cA Study on working capital management\\u201d is a study of various aspects related to the company and its peer groups,which includes the fund holding statement, income statement, balance sheet and key financial ratios. A variance analysis is been done to know the financial performance of the company.       Experience            Senior Accountant / Finance Controller     Nov 2013   to   Aug 2015      Company Name         Responsible in the safeguard of the company's revenue by ensuring that products and services and well marketed to our existing clients Covered all type of concerned duties include data entry Bank reconciliation, debtors and creditors reconciliation Keep the company documents and data as confidential Handling petty cash book Managing accounts receivables and payables Review of accounts and statements periodically Maintaining payroll Invoicing LC Preparation and Invoice Factoring and Payroll administration with salary for employees,in tally & excel.         Internal Auditor     Feb 2010   to   Jul 2011      Company Name         Performs administrative clerical duties Ensures adequate monitoring of supplies and all materials required, and ensured their proper inventory Responsible in the safeguard of the company's revenue by ensuring that products and services and well marketed to our existing clients Ensure suppliers and other parties are paid on time Covered all type of concerned duties include data entry Bank reconciliation, debtors and creditors reconciliation Review of accounts and statements periodically Maintaining payroll Keep the company documents and data as confidential Handling petty cash book Maintenance of accounts file, ensuring accuracy and completeness Managing accounts receivables and payables Co-ordinate with banks.         Assistant accounts clerck/Document Controller     Jan 2008   to   Jan 2010      Company Name   \\uff0d     State     In charge in the recording filling personal data of every staffs in the Bank Maintenance of accounts file, ensuring accuracy and completeness Managing all type of files Handling petty cash book Covered all type of concerned duties include data entry Bank reconciliation, debtors and creditors reconciliation Review of accounts and statements periodically Prepared supporting documentation for auditing whenever customers or auditors required.         Education      M.COM ( Master of commerce)  ,   commerce   2013     madras university    \\uff0d   City  ,   State  ,   india    affiliated to madras university 2013,chennai,india.(distance education),and specialised into commerece.        MBA  ,   finance & marketting   2013     karpagam university college   \\uff0d   City  ,   State  ,   India    successfully completed 2011-2013 the batch,specialized into finanace and marketting.        B.com(Bachelor of commerce)  ,   commerce   2010     calicut university   \\uff0d   City  ,   State  ,   India    specialized into commerece.        Accounting software's Certifications  ,   proffessional accounting   2009     IPA   \\uff0d   City  ,   State  ,   INDIA    GPA:   GPA: 7.2    GPA: 7.2        MBA            Certifications      Diploma in Business Proffessional Programmer ('O'level)  \\u00a0  Duration          :1 Year   Platform\\t\\t: windows  Under\\t\\t: Certified by Doeacc society Govt  Of India- Business professional      programmer('O'level) (Under AICTE-DIT Scheme) Description \\t: The objective of the course was programming the computers and solving problems.    Title                 :Microsoft Office  \\u00a0  Duration\\t\\t: 6 Month   Platform\\t\\t: windows   Description \\t: Completed Office automation including ms-office and excel     Title:  Professional accounting   Duration \\t: 6 Months  Platform \\t: windows   Accounting practice : Practical Accounting - Certified by CPA (in IPA vatakara).  \\u00a0  Description : Complete Manipulation of accounting softwares and manual accounting .        Languages    English, Malayalam,hindi and Tamil, \\n(Read &Write)          : \\tEnglish, Arabic, Hindi, and Malayalam.      Personal Information     Date of Birth: 14-05-1987  Marital Status                                  :Engaged.  Permanent Address                       : Rabiyas house,                                                           Vatakara-beach (PO),                                                           kozhikode, kerala-676506.  Nationality                                     :Indian.  Languages Known:  (Speak)                                          : English, Malayalam,hindi and Tamil,   (Read &Write)                                : English, Arabic, Hindi, and Malayalam.  Current Location                           : Doha Qatar  Driving Licence                             : Indian  Passport No                                  : J1888069.  Visa status                                     : yearly work visit  Qatari Id No                                   : 28735642209         Additional Information      Highly Committed & Positive attitude  Self Confident and Dedicated   Diligent worker   Result oriented in given time  Adaptable to any environment  Carries Valid indian Driving Licence  Ability to face challenging responsibilities.  Strong positive attitude and quick adaptability and flexibility with work.  Self-starter and seeks new challenges and responsibilities.  Ability to work both independently and as part of a team with professionals at all levels        Skills      Academic,   Accounting,   Accounting software,   accounts receivables,   administrative,   auditing, balance sheet,   Bank reconciliation, basic,   book, clerical,   Hardware,   computer applications,clients,   data entry, documentation,   ERP, ERP 9, filling,   financial,   inventory,   Invoicing, Managing, materials,   MS-Excel, excel,   ms-office, Microsoft Office,   Windows, MS-Word, office administration,   Office automation, payables, Payroll,   PEACH TREE, Peachtree, Programmer, programming, Read, recording, Scheme, type, variance analysis     \",\n          \"         HEALTHCARE CONSULTING PROJECT ASSOCIATE       Professional Summary     Demonstrates exceptional professional agility adding value quickly in any role.  Effectively anticipates and responds to non-static clinical, operational and financial demands.  Proven consulting and analytical expertise in physician practice management, revenue cycle and in the medical device, supply and biopharm market.  Collaborative partner with leading global health company sales teams.  Leader in strategic market expansion and operational growth.  Known for unquestionable interpersonal skills and passion for teaching, having developed robust education programs.  Dual US-EU citizen - compelled by language and global markets.       Education and Training     May 2013     Select  One  :   Health Information Technology    University of Texas   -   City  ,   State  ,   USA     Health Information Technology Executive Education        April 2010     Master of Health Administration  :   Graduate School of Public Health    University of Pittsburgh   -   City  ,   State  ,   USA            April 2008     B.A  :   Communication and Rhetoric    University of Pittsburgh   -   City  ,   State  ,   USA     Certificate in Professional German  Graduated Magna Cum Laude        August 2005       Intensive Language Studies    Die Neue Schule   -   City  ,   State  ,   Germany    GPA:   Magna Cum Laude                        Accomplishments      More  More  Awarded coveted post graduate administrative fellowship upon Master of Health Administration completion        Skill Highlights          Microsoft Excel, Word, Power Point, Visio & Access  NextGen Electronic Practice Management Super User  NextGen Electronic Health Record End User  PolicyTech      Vantage Analytics  Valify Purchased Services Analytics  PeopleSoft Financials & Supply Chain Management  Lawson Supply Chain Management            Professional Experience     10/2013   to   Current     Healthcare Consulting Project Associate    Company Name   -   City  ,   State      Oversee data analysis to support cost savings and management strategies   Recommend non-labor cost reduction savings based on cross-functional business analysis Manage operations of clinical and perioperative work streams   Lead team meetings presenting client deliverables to executive leadership groups   Build consensus among key decision makers to support project implementation   Engage appropriate clinical stakeholders to evaluate and approve product conversion   Negotiate medical supplier, manufacturer and contracted services agreements   Leverage partnership with group purchasing organizations (GPO) to maximize contract access   Interpret financial data, stakeholder preferences and clinical evaluation information   Facilitate commodity standardization in collaboration with system supply chain   Write audience specific communications for all product and service changes   Create clinical education copy for product implementations and conversions   Navigate client databases to extract and analyze financial, purchasing and other health data   Facilitate strategic account partnership between client, supplier and vendor relationships   Develop comprehensive guidelines for client transition planning  Design custom development programs to educate internal and client resources   Balance projects and accommodating multiple client needs Accomplishments   Develop client specific value analysis and reporting methodologies   Support identification and implementation of $30M in clinical and interventional initiatives   Validate over $20M in financial savings (including diagnostics and pharmacy initiatives)   Implement financial enhancement models for revenue cycle process change optimization   Lead sustainability reviews to ensure clients continue to realize implemented savings   Slash over $30M in annual recurring non labor expenses.         06/2010   to   06/2011     Administrative Fellow    Company Name   -   City  ,   State      Participation in all MSO services including billing and cycle revenue management, call center services, provider credentialing, practice assessments and vendor management   Centralize Program Registration and Benefits Assistance department using root cause problem solving strategies Perform community analysis and serve as outreach coordinator for aligned organizations   Open two pediatric clinics including preparation, purchasing, set-up and go-live   Manage business operations of a two-provider pediatric clinic  Create and execute electronic fax solution pilot to streamline clinical communication and eliminate resource waste   Coordinate prenatal tours across 7 pediatric clinics to capture pediatric and women's services growth potential   Manage medical services requests across clinics, billing, program registration, patient experience and navigation   Write, manage and monitor front office policies, procedures and compliance.         06/2011   to   05/2013     Director of Clinical Support    Company Name   -   City  ,   State      Responsible for the overall quality and accuracy of clinical front office functions   Practice acquisition of new clinics including project management, staff assignment, purchasing and go-live   Primary liaison between billing, finance, credentialing and operational procedure issues at 28 clinics   Oversee training, application and adherence of all front office program initiatives   Plan and lead quarterly front office and program registration workshops for over 100 attendees   Hire and train front office personnel   Produce financial dashboards for practice administrators and medical directors   Write training guides for Centex System Support Services and Confluence Conduct NextGen EPM implementation, testing and end-user training   Oversee leave approval in NextGen and ADP for 36 physicians and mid-level providers across 10 clinics   Manager of all business operations and 7 direct reports at family medicine clinics and lab Lead patient safety and clinical competence initiatives for successful Joint Commission re-accreditation   Accomplishments   Manage daily clinic collections & reporting process change to eliminate zero-tolerance financial errors   Restructure front office new hire orientation curriculum to improve employee satisfaction and retention   Define corporate scheduling and collections policies to increase front office collections by 11%   Design Explorative Technology Front Office Workflow Redesign pilot to reduce encounter cycle time and improve workflow  Establish University of Texas Health Information Technology partnership to coordinate clinical observations/practicums.         05/2009   to   05/2010     Administrative Resident    Company Name   -   City  ,   State      Reconcile physician contracts to measure clinical productivity and bonus allocation.  Design mid-level provider clinical rotation program and database to support tracking and recruitment efforts.  Collaborate with administrative leadership to develop cost savings initiatives to identify opportunities in.divested business units, corporate real estate and facilities management.         03/2009   to   05/2009     Contractor, MHA Candidate     Company Name   -   City  ,   State      Analyze current marketing situation with collaboration among executives, staff, and external stakeholders.  Apply marketing concepts to identify and appeal to target market of long term acute care consumers.  Create marketing plan to expand referral base, form strategic alliances and focus on personal selling.         02/2009   to   05/2009     Contractor, Pilot Immersion Program    Company Name   -   City  ,   State      Identify current appointment process challenges for residents using flowcharts and project management tools  Redesign computer access request process for system users to reduce throughput time and increase trainee satisfaction  Apply Six Sigma concepts to streamline nurse educators' suite to increase capacity and eliminate waste          Skills     acute care, administrative, go-live, streamline, ADP, Balance, Benefits, billing, business analysis, business operations, call center, contracts, conversion, cost reduction, client, clients, data analysis, databases, database, facilities management, family medicine, fax, finance, financial, focus, Front Office, functional, German, Health Information Technology, leadership, marketing plan, marketing, market, meetings, access, navigation, optimization, patient safety, perioperative, personnel, policies, presenting, problem solving, project management, purchasing, quality, real estate, recruitment, reporting, selling, scheduling, strategic, strategic alliances, supply chain, user training, vendor management, Workflow, workshops    \"\n        ],\n        \"semantic_type\": \"\",\n        \"description\": \"\"\n      }\n    },\n    {\n      \"column\": \"Category\",\n      \"properties\": {\n        \"dtype\": \"category\",\n        \"num_unique_values\": 12,\n        \"samples\": [\n          \"DIGITAL-MEDIA\",\n          \"SALES\",\n          \"INFORMATION-TECHNOLOGY\"\n        ],\n        \"semantic_type\": \"\",\n        \"description\": \"\"\n      }\n    },\n    {\n      \"column\": \"job_id\",\n      \"properties\": {\n        \"dtype\": \"number\",\n        \"std\": 7466210,\n        \"min\": 3867167975,\n        \"max\": 3906233662,\n        \"num_unique_values\": 100,\n        \"samples\": [\n          3891265994,\n          3898178152,\n          3902327838\n        ],\n        \"semantic_type\": \"\",\n        \"description\": \"\"\n      }\n    },\n    {\n      \"column\": \"title\",\n      \"properties\": {\n        \"dtype\": \"category\",\n        \"num_unique_values\": 100,\n        \"samples\": [\n          \"Supervisor/Manager Part-Time\",\n          \"Data Protection - Technology Risk and Compliance Supervising Associate\",\n          \"Clinical Educator\"\n        ],\n        \"semantic_type\": \"\",\n        \"description\": \"\"\n      }\n    },\n    {\n      \"column\": \"description\",\n      \"properties\": {\n        \"dtype\": \"category\",\n        \"num_unique_values\": 100,\n        \"samples\": [\n          \"Claire's - A Career that's always in style\\n\\nPart-Time Manager/3rd Key Holder Opportunity\\n\\nAbout The Role\\n\\nAs a 3rd Keyholder at Claire's, you will be responsible for:\\n\\nSupporting your Store Manager and Assistant Store Manager with the achievement of retail store targets by driving salesIn the absence of any other management they may open and close the store and are responsible at that point for ensuring that the store trades safely and legallyDelivering sales through friendly and efficient customer serviceEnsuring our customers have a fun and enjoyable shopping experienceDemonstrating Claire\\u0092s productsAssisting customers with their queries using your product knowledgeAssisting with processing store deliveries, visual merchandising, stock takes, markdowns and promotionsEar piercing (you will receive full training)Ensuring the store looks presentable and inviting to our customers\\n\\nAbout Claire's\\n\\nA leading high street fashion retailer with +3000 stores globallyWe specialize in fashionable jewelry, accessories and cosmetics productsOur core customer ranges from children to young women. We accommodate all our customers' moods, attitudes and styles, including: feminine and pretty, unique/individual and the latest catwalk trendsWe are a fun place to work! We encourage all store members to wear our productWe encourage and support your development! If you're committed, ambitious and willing to learn we will provide you with the skills you need to grow in our company!\\n\\nQualifications - External\\n\\nAbout You\\n\\nSome high school requiredMinimum 1 year retail experienceExcellent verbal/written communication and organizational skillsBasic computer skillsUnderstands the importance of Customer ServiceSound understanding of mathematics and strong reading comprehension skillsAbility to stand during scheduled shiftsAbility to maneuver up to 25 lbs regularly and up to 75 lbs occasionallyBending, stooping, extended reaching, climbing ladders and step stools while placing merchandise throughout the store and assisting CustomersAbility to operate POS system\\n\\nClaire's is an equal opportunity employer committed to diversity, equity and inclusion and we encourage applications from members of all under represented groups, including those with disabilities. We will accommodate applicants' needs, upon request, throughout all stages of the recruitment process. Please inform us of the accommodation(s) that you may require. Information received relating to accommodation will be addressed confidentially. To request accommodation, please email Benefits@claires.com. Only messages sent for this purpose will be considered.\\n\\nClaire's is an equal opportunity employer committed to diversity, equity and inclusion and we encourage applications from members of all underrepresented groups, including those with disabilities. We will accommodate applicants' needs, upon request, throughout all stages of the recruitment process. Please inform us of the accommodation(s) that you may require.\",\n          \"EY focuses on high-ethical standards and integrity among its employees and expects all candidates to demonstrate these qualities. At EY, you\\u2019ll have the chance to build a career as unique as you are, with the global scale, support, inclusive culture and technology to become the best version of you. And we\\u2019re counting on your unique voice and perspective to help EY become even better, too. Join us and build an exceptional experience for yourself, and a better working world for all.\\n\\nLocation: Flexible Anywhere in the US\\n\\nTechnology Risk & Compliance - Supervising Associate\\n\\nEthics, Compliance, and Risk Management (ECRM) supports our people in managing the risks that arise during our daily working lives. We work closely with all parts of the organization to identify, manage and monitor risk, providing coordinated advice and assistance on independence, conflicts, compliance, regulatory, policy, security issues, as well as dealing with claims and any queries regarding ethics.\\n\\nThe opportunity\\n\\nWe are operating in an increasingly connected world that is changing how to manage risk. With fast-paced technology advancements, new innovations within emerging technologies, and an ever-challenging regulatory environment, it is business critical for our organization to identify not only the risks but the opportunities these present to us. As a Supervising Associate with our Technology Risk and Compliance (TRC) function, you will make educated, thoughtful decisions. Our brand depends on it. It\\u2019s all part of our long-term commitment to building a better working world and in return, you can expect plenty of opportunities to take on new responsibilities and develop your career.\\n\\nYour Key Responsibilities\\n\\nAs part of EY Americas Technology Risk and Compliance function, you will assist in the development, implementation, and monitoring of various program initiatives. We are looking for a high performing Supervising Associate to assist in the execution of strategic and operational program initiatives. This position requires in-depth subject matter knowledge. The Technology Risk and Compliance function is focused on delivering technology risk insights and mitigating actions to the business to enable better risk-based decisions and align with client expectations.\\n\\nSkills And Attributes For Success\\n\\nDrives activities within the Technology Risk and Compliance function of the ECRM program, including but not limited to:Leading risk consultations including steering risk consultations regarding the implementation of new technologies, acting as a central figure in managing potential threats. This includes but not limited to engaging the appropriate stakeholders based on the risk profile and identifying risk mitigating controls and activities,Executing information security assessments to identify information security risks across our Americas technology environment,Supporting risk mitigation and surveillance activities involving aspects such as third-party management, technology governance, awareness, and policy formulation, data security, business continuity planning, identity and access administration, application risk valuations, and ensuring compliance with essential norms.Assists with strategy formation, direction, and portfolio stewardship of information security risk management activities,Assists in analyzing related legal and regulatory developments to confirm applicable requirements,Assists in maintaining and updating related EY policies, guidance, training, and awareness communication plan to reflect new and/or changes to data protection laws, regulations, and standards,Collaborates with various functions across the organization, such as EY\\u2019s Global Information Security, and members of the business and Service Line Quality, to design and implement controls in order to protect confidential/personal information,Creates reports on various program activities to be delivered to key program stakeholders, including senior leaders within the organization,Continuously maintains and expands knowledge of field of expertise and communicates new developments and resulting impact to program stakeholders and team members, andParticipates in various ad-hoc program projects, as needs develop.\\n\\nTo qualify for the role, you must have\\n\\nStrong verbal and written communication skillsSolid understanding of relevant firm business and area wide data protection issues and concernsStrong problem-solving skillsFlexibility and the ability to take the initiativeAbility to right-size riskStrong research skillsStrong project management skills; ability to successfully handle multiple tasksGood working knowledge of information systems and common software packagesBachelor\\u2019s degree or equivalent work experience; Graduate degree preferred3-6 plus years related experience\\n\\nIdeally, you\\u2019ll have\\n\\nAbility to reference existing firm information security and data protection policies as well as knowledge and experience to review complex situations and assist in proposing solutionsStrong knowledge of relevant global, national, and local data protection laws, regulations, and standards, as well as familiarity with other risk management initiatives outside of their specific areaSound understanding of high-level technology and information security trendsExperience in IT risk management and information securityExperience with information security frameworks (e.g., ISO, NIST)Information security certification from ISC2 or ISACA (e.g., CISSP, CISM, CISA)Knowledge of Artificial Intelligence and associated risks is preferred\\n\\nWhat We Look For\\n\\nWe\\u2019re interested in people that will be able to right-size risk and recommend creative solutions to complex problems, as well as make significant contributions to complex Ethics, Risk Management, and Compliance projects.\\n\\nWhat Working At EY Offers\\n\\nWe offer a competitive compensation package where you\\u2019ll be rewarded based on your performance and recognized for the value you bring to our business. In addition, our Total Rewards package includes medical and dental coverage, both pension and 401(k) plans, a minimum of 18 days of paid time off with additional time based on your level and years of service plus 12 observed holidays, and a range of programs and benefits designed to support your physical, financial and social well-being.\\n\\nAbout EY\\n\\nAs a global leader in assurance, tax, transaction and advisory services, we hire and develop the most passionate people in their field to help build a better working world. This starts with a culture that believes in giving you the training, opportunities and creative freedom to make things better. So that whenever you join, however long you stay, the exceptional EY experience lasts a lifetime.\\n\\nIf you can confidently demonstrate that you meet the criteria above, please contact us as soon as possible.\\n\\nJoin us in building a better working world. Apply now.\\n\\nWhat We Offer\\n\\nWe offer a comprehensive compensation and benefits package where you\\u2019ll be rewarded based on your performance and recognized for the value you bring to the business. The salary range for this job in most geographic locations in the US is $79,200 to $143,800. The salary range for New York City Metro Area, Washington State and California (excluding Sacramento) is $95,100 to $163,400. Individual salaries within those ranges are determined through a wide variety of factors including but not limited to education, experience, knowledge, skills and geography. In addition, our Total Rewards package includes medical and dental coverage, pension and 401(k) plans, and a wide range of paid time off options. Under our flexible vacation policy, you\\u2019ll decide how much vacation time you need based on your own personal circumstances. You\\u2019ll also be granted time off for designated EY Paid Holidays, Winter/Summer breaks, Personal/Family Care, and other leaves of absence when needed to support your physical, financial, and emotional well-being.\\n\\nContinuous learning: You\\u2019ll develop the mindset and skills to navigate whatever comes next.Success as defined by you: We\\u2019ll provide the tools and flexibility, so you can make a meaningful impact, your way.Transformative leadership: We\\u2019ll give you the insights, coaching and confidence to be the leader the world needs.Diverse and inclusive culture: You\\u2019ll be embraced for who you are and empowered to use your voice to help others find theirs.\\n\\nIf you can demonstrate that you meet the criteria above, please contact us as soon as possible.\\n\\nThe Exceptional EY Experience. It\\u2019s Yours To Build.\\n\\nEY | Building a better working world\\n\\nEY exists to build a better working world, helping to create long-term value for clients, people and society and build trust in the capital markets.\\n\\nEnabled by data and technology, diverse EY teams in over 150 countries provide trust through assurance and help clients grow, transform and operate.\\n\\nWorking across assurance, consulting, law, strategy, tax and transactions, EY teams ask better questions to find new answers for the complex issues facing our world today.\\n\\nEY is an equal opportunity, affirmative action employer providing equal employment opportunities to applicants and employees without regard to race, color, religion, age, sex, sexual orientation, gender identity/expression, pregnancy, genetic information, national origin, protected veteran status, disability status, or any other legally protected basis, including arrest and conviction records, in accordance with applicable law.\\n\\nEY is committed to providing reasonable accommodation to qualified individuals with disabilities including veterans with disabilities. If you have a disability and either need assistance applying online or need to request an accommodation during any part of the application process, please call 1-800-EY-HELP3, type Option 2 (HR-related inquiries) and then type Option 1 (HR Shared Services Center), which will route you to EY\\u2019s Talent Shared Services Team or email SSC Customer Support at ssc.customersupport@ey.com\",\n          \"B. Braun Medical, Inc.\\n\\nB. Braun Medical, Inc.\\n\\n\\nClinical Educator\\n\\nUS-OR-Salem\\n\\nJob ID: 2024-23891\\nType: Remote - Full Time\\n# of Openings: 3\\nCategory: Clinical Support\\nOR Hospital Sales\\n\\nOverview\\n\\nAbout B. Braun \\n\\nB. Braun Medical Inc., a leader in infusion therapy and pain management, develops, manufactures, and markets innovative medical products and services to the healthcare industry. Other key product areas include nutrition, pharmacy admixture and compounding, ostomy and wound care, and dialysis. The company is committed to eliminating preventable treatment errors and enhancing patient, clinician and environmental safety. B. Braun Medical is headquartered in Bethlehem, Pa., and is part of the B. Braun Group of Companies in the U.S., which includes B. Braun Interventional Systems, Aesculap\\u00ae and CAPS\\u00ae.\\n\\nGlobally, the B. Braun Group of Companies employs more than 64,000 employees in 64 countries. Guided by its Sharing Expertise\\u00ae philosophy, B. Braun continuously exchanges knowledge with customers, partners and clinicians to address the critical issues of improving care and lowering costs. To learn more about B. Braun Medical, visit www.BBraunUSA.com.\\n\\n\\nResponsibilities\\n\\nPosition Summary:\\n\\n\\n\\nResponsibilities: Essential Duties\\nProvides education/training to our existing or potential customers on the use of B. Braun Medical\\u2019s products.Works with Sales Representatives/CNC to advance the sales process and maximize customer satisfaction through in-service education and training programs (Mentoring Program), clinical and product trouble-shooting, and follow-up activities. Product focus revolves primarily around the Infusion Therapy and Introcan Safety product line but may include any of the product portfolio.Functions as a clinical and product expert representing B. Braun Medical in the healthcare community.Conducts and leads in-services and educational sessions relative to BBM products during evaluations, conversions and trouble-shootingServes as a product resource expert/mentor for other BBM educators while in accounts performing training/educational activities ----Works under the direction and supervision of the Clinical Nurse Consultant along with BBM Sales Representatives.The job function listed is not exhaustive and shall also include any responsibilities as assigned by the Supervisor from time to time.\\n\\nExpertise: Knowledge & Skills\\nRequiresfull working knowledge of relevant business practices and procedures in professional field. Uses standard theories, principles and concepts and integrates them to propose a course of action.Worksunder general supervision. Relies on experience and judgement to plan and accomplish assigned goals. May periodically assist in orienting, training, assigning & checking the work of other peers.Judgementis required in resolving complex problems based on experience.Contactsareprimarilywith department supervisors, leads, subordinates, and peers. Occasional contact with external contractors/vendors.\\nThe targeted range for this role takes into account a range of factors that are considered when making compensation and hiring decisions; included but not limited to: skill sets; experience and training; licensure and certifications; and other business and organizational needs. The disclosed range estimate has not been adjusted for the applicable geographic differential associated with the location at which the position may be filled. Compensation decisions are dependent on the facts and circumstances of each case. The range provided is a reasonable estimate.\\n\\nIt is an essential function of this position for an employee to be present and in-person at the physical site(s) of our customers and potential customers. Many of our customers and potential customers are in clinical settings, including, but not limited to, hospitals, clinics, and other health care clinics (hereinafter, \\u201cHealthcare Customers\\u201d). Many of our Healthcare Customers require outside vendors like us to present proof that they have certain requisite vaccinations and immunizations, including, but not limited to, vaccinations against COVID-19 and seasonal influenza, before being granted entry into the Healthcare Customers\\u2019 clinical settings. To gain access to our Healthcare Customers clinical settings, field sales, field service, and other customer facing professionals are required to register with the vendor credentialing organization associated with the Healthcare Customers, complete the Healthcare Customers\\u2019 required process, and undergo a series of clearances. Vendor credentialing clearances include, but are not limited to, a national criminal background check, drug screening, and immunizations as determined by the vendors, which may include, but are not limited to, Influenza, Hepatitis B Virus, and COVID-19. You must fully comply with the requirements of the Healthcare Customers in your region, including any necessary proof of any vaccination. As such, all individuals in this position assigned to a Healthcare Customer with a COVID-19, Influenza, Hepatitis B Virus, or other vaccination requirement must be fully vaccinated and/or immunized in accordance with the Healthcare Customers\\u2019 requirements. B. Braun Medical North America Companies complies with the Americans with Disabilities Act (ADA) and applicable laws, and on receipt of an accommodation request will engage in the interactive process to assess possible reasonable accommodation options, if any, consistent with the ADA and applicable law.\\n\\n#ID\\n\\n#AL\\n\\n\\nTarget Based Range\\n\\n $78,109 - $97,636 (plus incentive compensation)\\n\\nQualifications\\n\\nExpertise: Qualifications - Experience/Training/Education/Etc\\n\\nRequired:\\nAssociate'sor technical degree required, Bachelor's degree preferred.02-04yearsrelatedexperiencerequired.Applicableindustry/professionalcertificationpreferred.FrequentbusinesstravelrequiredValiddriver'slicenseandpassporAbilityto work non-standard schedule as neededValid RN licenseRegularandpredictableattendance\\nWhile performing the duties of this job, the employee is regularly required to sit and talk or hear. The employee frequently is required to use hands to handle or feel and reach with hands and arms. The employee is occasionally required to stand and walk. The employee must occasionally lift and/or move up to 20 pounds.\\n\\n\\n\\n\\n.\\n\\n\\nAdditional Information \\n\\nResponsibilities: Other Duties:\\nMay be assigned other duties as directed.The preceding functions have been provided as examples of the types of work performed by employees assigned to this position. To perform this job successfully, an individual must be able to perform each essential duty satisfactorily. The requirements listed in this description are representative of the knowledge, skill, and/or ability required. Management reserves the right to add, modify, change or rescind the work assignments of different positions due to reasonable accommodation or other reasons.\\n\\nPhysical Demands:\\n\\nThe physical demands described here are representative of those that must be met by an employee to successfully perform the essential functions of this job. Reasonable accommodations may be made to enable individuals with disabilities to perform the essential functions.\\n\\nWhile performing the duties of this job, the employee is expected to:\\nLight work - Exerting up to 20 lbs of force occasionally, and/or up to 10 pounds of force frequently, and/or a negligible amount of force constantly to move objects.\\n\\nLifting, Carrying, Pushing, Pulling and Reaching:\\nOccasionally:Reaching upward and downward, Push/pull, StandFrequently: SitConstantly: N/A\\nActivities:\\nOccasionally: Climbing stairs/ladders, Push/pull, Reaching upward and downward, Standing, WalkingFrequently: Finger feeling, Hearing - ordinary, fine distinction, loud (hearing protection required), Seeing - depth perception, color vision, field of vision/peripheral, Sitting, Talking - ordinary, loud/quickConstantly: N/A\\nEnvironmental Conditions:\\nOccasionally: N/AFrequently: N/AConstantly: N/A\\nWork Environment:\\n\\nThe work environment characteristics described here are representative of those an employee encounters while performing the essential functions of this job. Reasonable accommodations may be made to enable individuals with disabilities to perform the essential functions.\\nNoise Intensity: ModerateOccasionally: OtherFrequently: N/AConstantly: Office environment\\n\\n\\nWhat We Offer\\n\\nB. Braun offers an excellent benefits package, which includes healthcare, a 401(k) plan, and tuition reimbursement. To learn more about B. Braun and our safety healthcare products or view a listing of our employment opportunities, please visit us on the internet at www.bbraunusa.com.\\n \\nThrough its Sharing Expertise\\u00ae initiative, B. Braun promotes best practices for continuous improvement of healthcare products and services.\\n\\nNotices\\n\\nEqual Opportunity Employer Veterans/Disabled\\n\\n\\nAll qualified applicants will receive consideration for employment without regard to race, color, sex, sexual orientation, gender identity, religion, national origin, disability, veteran status, age, marital status, pregnancy, genetic information, or other legally protected status.\\n\"\n        ],\n        \"semantic_type\": \"\",\n        \"description\": \"\"\n      }\n    },\n    {\n      \"column\": \"ATS_score\",\n      \"properties\": {\n        \"dtype\": \"number\",\n        \"std\": 10,\n        \"min\": -8,\n        \"max\": 69,\n        \"num_unique_values\": 74,\n        \"samples\": [\n          38,\n          56,\n          67\n        ],\n        \"semantic_type\": \"\",\n        \"description\": \"\"\n      }\n    }\n  ]\n}"
            }
          },
          "metadata": {},
          "execution_count": 3
        }
      ]
    },
    {
      "cell_type": "code",
      "source": [
        "# Data preprocessing\n",
        "class ResumeDataset(Dataset):\n",
        "    def __init__(self, resumes, descriptions, scores, tokenizer, max_len):\n",
        "        self.resumes = resumes\n",
        "        self.descriptions = descriptions\n",
        "        self.scores = scores\n",
        "        self.tokenizer = tokenizer\n",
        "        self.max_len = max_len\n",
        "\n",
        "    def __len__(self):\n",
        "        return len(self.resumes)  # Return the length of the dataset\n",
        "\n",
        "    def __getitem__(self, idx):\n",
        "        resume = str(self.resumes[idx])  # Get the resume text\n",
        "        description = str(self.descriptions[idx])  # Get the job description\n",
        "        score = self.scores[idx]  # Get the ATS score\n",
        "\n",
        "        # Tokenize the resume and job description\n",
        "        inputs = self.tokenizer.encode_plus(\n",
        "            resume,\n",
        "            description,\n",
        "            add_special_tokens=True,\n",
        "            max_length=self.max_len,\n",
        "            padding='max_length',\n",
        "            truncation=True,\n",
        "            return_attention_mask=True,\n",
        "            return_tensors='pt',\n",
        "        )\n",
        "\n",
        "        input_ids = inputs['input_ids'].flatten()  # Get input IDs\n",
        "        attention_mask = inputs['attention_mask'].flatten()  # Get attention mask\n",
        "\n",
        "        return {\n",
        "            'input_ids': input_ids,\n",
        "            'attention_mask': attention_mask,\n",
        "            'score': torch.tensor(score, dtype=torch.float)  # Return the score as a tensor\n",
        "        }\n"
      ],
      "metadata": {
        "id": "CAzUBHcF2gab"
      },
      "execution_count": 4,
      "outputs": []
    },
    {
      "cell_type": "code",
      "source": [
        "# Initialize tokenizer\n",
        "tokenizer = BertTokenizer.from_pretrained('bert-base-uncased')  # Load BERT tokenizer\n",
        "MAX_LEN = 512  # Set maximum sequence length"
      ],
      "metadata": {
        "colab": {
          "base_uri": "https://localhost:8080/"
        },
        "id": "WRYlGRoT2gcx",
        "outputId": "ab7c480b-4c00-4308-bdb3-efa5e81be876"
      },
      "execution_count": 5,
      "outputs": [
        {
          "output_type": "stream",
          "name": "stderr",
          "text": [
            "/usr/local/lib/python3.10/dist-packages/huggingface_hub/utils/_token.py:89: UserWarning: \n",
            "The secret `HF_TOKEN` does not exist in your Colab secrets.\n",
            "To authenticate with the Hugging Face Hub, create a token in your settings tab (https://huggingface.co/settings/tokens), set it as secret in your Google Colab and restart your session.\n",
            "You will be able to reuse this secret in all of your notebooks.\n",
            "Please note that authentication is recommended but still optional to access public models or datasets.\n",
            "  warnings.warn(\n"
          ]
        }
      ]
    },
    {
      "cell_type": "code",
      "source": [
        "# Prepare dataset\n",
        "# Split data into training and testing sets\n",
        "train_data, test_data = train_test_split(data, test_size=0.1, random_state=42)\n",
        "train_dataset = ResumeDataset(\n",
        "    resumes=train_data['Resume_str'].values,\n",
        "    descriptions=train_data['description'].values,\n",
        "    scores=train_data['ATS_score'].values,\n",
        "    tokenizer=tokenizer,\n",
        "    max_len=MAX_LEN\n",
        ")\n",
        "test_dataset = ResumeDataset(\n",
        "    resumes=test_data['Resume_str'].values,\n",
        "    descriptions=test_data['description'].values,\n",
        "    scores=test_data['ATS_score'].values,\n",
        "    tokenizer=tokenizer,\n",
        "    max_len=MAX_LEN\n",
        ")"
      ],
      "metadata": {
        "id": "DSDkYi7C2gfb"
      },
      "execution_count": 6,
      "outputs": []
    },
    {
      "cell_type": "code",
      "source": [
        "# Create DataLoader for batching and shuffling\n",
        "train_loader = DataLoader(train_dataset, batch_size=8, shuffle=True)\n",
        "test_loader = DataLoader(test_dataset, batch_size=8, shuffle=False)"
      ],
      "metadata": {
        "id": "GxUxnMDq2gh1"
      },
      "execution_count": 7,
      "outputs": []
    },
    {
      "cell_type": "code",
      "source": [
        "# Model building\n",
        "class ATSBertRegressor(torch.nn.Module):\n",
        "    def __init__(self):\n",
        "        super(ATSBertRegressor, self).__init__()\n",
        "        self.bert = BertModel.from_pretrained('bert-base-uncased')  # Load pre-trained BERT model\n",
        "        self.dropout = torch.nn.Dropout(p=0.3)  # Add dropout for regularization\n",
        "        self.linear = torch.nn.Linear(self.bert.config.hidden_size, 1)  # Linear layer for regression\n",
        "\n",
        "    def forward(self, input_ids, attention_mask):\n",
        "        outputs = self.bert(\n",
        "            input_ids=input_ids,\n",
        "            attention_mask=attention_mask\n",
        "        )\n",
        "        pooled_output = outputs[1]  # Get pooled output from BERT\n",
        "        dropout_output = self.dropout(pooled_output)  # Apply dropout\n",
        "        linear_output = self.linear(dropout_output)  # Get linear output\n",
        "        return linear_output\n"
      ],
      "metadata": {
        "id": "chJnHrLo2gkd"
      },
      "execution_count": 8,
      "outputs": []
    },
    {
      "cell_type": "code",
      "source": [
        "# Training the model\n",
        "def train_model(model, data_loader, loss_fn, optimizer, device, scheduler, num_epochs):\n",
        "    model = model.to(device)  # Move model to device (GPU or CPU)\n",
        "    for epoch in range(num_epochs):  # Loop over epochs\n",
        "        model.train()  # Set model to training mode\n",
        "        for batch in data_loader:  # Loop over batches\n",
        "            input_ids = batch['input_ids'].to(device)  # Get input IDs\n",
        "            attention_mask = batch['attention_mask'].to(device)  # Get attention mask\n",
        "            scores = batch['score'].to(device)  # Get scores\n",
        "\n",
        "            optimizer.zero_grad()  # Zero the gradients\n",
        "            outputs = model(input_ids, attention_mask)  # Forward pass\n",
        "            loss = loss_fn(outputs, scores.unsqueeze(1))  # Compute loss\n",
        "            loss.backward()  # Backward pass\n",
        "            optimizer.step()  # Update weights\n",
        "            scheduler.step()  # Update learning rate\n",
        "\n",
        "        print(f\"Epoch {epoch + 1}/{num_epochs}, Loss: {loss.item()}\")  # Print loss for the epoch"
      ],
      "metadata": {
        "id": "0UMVrUsm2gm5"
      },
      "execution_count": 9,
      "outputs": []
    },
    {
      "cell_type": "code",
      "source": [
        "# Evaluation\n",
        "def evaluate_model(model, data_loader, device):\n",
        "    model = model.to(device)  # Move model to device\n",
        "    model.eval()  # Set model to evaluation mode\n",
        "    predictions, actuals = [], []\n",
        "\n",
        "    with torch.no_grad():  # Disable gradient computation\n",
        "        for batch in data_loader:  # Loop over batches\n",
        "            input_ids = batch['input_ids'].to(device)  # Get input IDs\n",
        "            attention_mask = batch['attention_mask'].to(device)  # Get attention mask\n",
        "            scores = batch['score'].to(device)  # Get scores\n",
        "\n",
        "            outputs = model(input_ids, attention_mask)  # Forward pass\n",
        "            predictions.extend(outputs.squeeze().tolist())  # Collect predictions\n",
        "            actuals.extend(scores.tolist())  # Collect actual scores\n",
        "\n",
        "    mse = mean_squared_error(actuals, predictions)  # Compute mean squared error\n",
        "    return mse"
      ],
      "metadata": {
        "id": "aUHb42n32gpc"
      },
      "execution_count": 10,
      "outputs": []
    },
    {
      "cell_type": "code",
      "source": [
        "# Main script\n",
        "device = torch.device(\"cuda\" if torch.cuda.is_available() else \"cpu\")  # Check if GPU is available\n",
        "model = ATSBertRegressor()  # Initialize model\n",
        "optimizer = AdamW(model.parameters(), lr=2e-5, correct_bias=False)  # Initialize optimizer\n",
        "total_steps = len(train_loader) * 5  # Total steps for scheduler\n",
        "scheduler = torch.optim.lr_scheduler.StepLR(optimizer, step_size=total_steps//10, gamma=0.1)  # Learning rate scheduler\n",
        "loss_fn = torch.nn.MSELoss().to(device)  # Loss function"
      ],
      "metadata": {
        "colab": {
          "base_uri": "https://localhost:8080/"
        },
        "id": "gaCDO-MV2grv",
        "outputId": "125cb769-7296-4e32-9a9e-e893f767861e"
      },
      "execution_count": 11,
      "outputs": [
        {
          "output_type": "stream",
          "name": "stderr",
          "text": [
            "/usr/local/lib/python3.10/dist-packages/transformers/optimization.py:588: FutureWarning: This implementation of AdamW is deprecated and will be removed in a future version. Use the PyTorch implementation torch.optim.AdamW instead, or set `no_deprecation_warning=True` to disable this warning\n",
            "  warnings.warn(\n"
          ]
        }
      ]
    },
    {
      "cell_type": "code",
      "source": [
        "# Train the model\n",
        "train_model(model, train_loader, loss_fn, optimizer, device, scheduler, num_epochs=5)\n",
        "\n"
      ],
      "metadata": {
        "colab": {
          "base_uri": "https://localhost:8080/"
        },
        "id": "RpwVCPat2guP",
        "outputId": "d487dc7a-9f2e-4b48-83bf-6ae40ba28e10"
      },
      "execution_count": null,
      "outputs": [
        {
          "output_type": "stream",
          "name": "stderr",
          "text": [
            "Be aware, overflowing tokens are not returned for the setting you have chosen, i.e. sequence pairs with the 'longest_first' truncation strategy. So the returned list will always be empty even if some tokens have been removed.\n",
            "Be aware, overflowing tokens are not returned for the setting you have chosen, i.e. sequence pairs with the 'longest_first' truncation strategy. So the returned list will always be empty even if some tokens have been removed.\n",
            "Be aware, overflowing tokens are not returned for the setting you have chosen, i.e. sequence pairs with the 'longest_first' truncation strategy. So the returned list will always be empty even if some tokens have been removed.\n",
            "Be aware, overflowing tokens are not returned for the setting you have chosen, i.e. sequence pairs with the 'longest_first' truncation strategy. So the returned list will always be empty even if some tokens have been removed.\n",
            "Be aware, overflowing tokens are not returned for the setting you have chosen, i.e. sequence pairs with the 'longest_first' truncation strategy. So the returned list will always be empty even if some tokens have been removed.\n",
            "Be aware, overflowing tokens are not returned for the setting you have chosen, i.e. sequence pairs with the 'longest_first' truncation strategy. So the returned list will always be empty even if some tokens have been removed.\n",
            "Be aware, overflowing tokens are not returned for the setting you have chosen, i.e. sequence pairs with the 'longest_first' truncation strategy. So the returned list will always be empty even if some tokens have been removed.\n",
            "Be aware, overflowing tokens are not returned for the setting you have chosen, i.e. sequence pairs with the 'longest_first' truncation strategy. So the returned list will always be empty even if some tokens have been removed.\n"
          ]
        }
      ]
    },
    {
      "cell_type": "code",
      "source": [
        "# Evaluate the model\n",
        "mse = evaluate_model(model, test_loader, device)\n",
        "print(f\"Mean Squared Error: {mse}\")  # Print mean squared error"
      ],
      "metadata": {
        "id": "A8duDL5v2gwv"
      },
      "execution_count": null,
      "outputs": []
    },
    {
      "cell_type": "code",
      "source": [
        "# Save the model\n",
        "torch.save(model.state_dict(), 'ats_bert_model.pth')  # Save the trained model"
      ],
      "metadata": {
        "id": "4baVxDyR2gzR"
      },
      "execution_count": null,
      "outputs": []
    },
    {
      "cell_type": "code",
      "source": [],
      "metadata": {
        "id": "fsa-SZX82g13"
      },
      "execution_count": null,
      "outputs": []
    },
    {
      "cell_type": "code",
      "source": [],
      "metadata": {
        "id": "KSsmFpxu2g4D"
      },
      "execution_count": null,
      "outputs": []
    },
    {
      "cell_type": "code",
      "source": [],
      "metadata": {
        "id": "NIsf2VJp2g6z"
      },
      "execution_count": null,
      "outputs": []
    },
    {
      "cell_type": "code",
      "source": [],
      "metadata": {
        "id": "lrP3TdcL2g8-"
      },
      "execution_count": null,
      "outputs": []
    },
    {
      "cell_type": "code",
      "source": [],
      "metadata": {
        "id": "gNssrzZi2g_c"
      },
      "execution_count": null,
      "outputs": []
    },
    {
      "cell_type": "code",
      "source": [],
      "metadata": {
        "id": "VFRwcu1f2hBy"
      },
      "execution_count": null,
      "outputs": []
    },
    {
      "cell_type": "code",
      "source": [],
      "metadata": {
        "id": "Ss8cJyk62hEa"
      },
      "execution_count": null,
      "outputs": []
    },
    {
      "cell_type": "code",
      "source": [],
      "metadata": {
        "id": "A79Ls89e2hGl"
      },
      "execution_count": null,
      "outputs": []
    },
    {
      "cell_type": "code",
      "source": [],
      "metadata": {
        "id": "EhAHuD8A2hJB"
      },
      "execution_count": null,
      "outputs": []
    },
    {
      "cell_type": "code",
      "source": [],
      "metadata": {
        "id": "lgwdLvX82hLj"
      },
      "execution_count": null,
      "outputs": []
    },
    {
      "cell_type": "code",
      "source": [],
      "metadata": {
        "id": "n_t75nwO2hN0"
      },
      "execution_count": null,
      "outputs": []
    },
    {
      "cell_type": "code",
      "source": [],
      "metadata": {
        "id": "DIL7pFpJ2hQB"
      },
      "execution_count": null,
      "outputs": []
    },
    {
      "cell_type": "code",
      "source": [],
      "metadata": {
        "id": "pWCq90b42hSQ"
      },
      "execution_count": null,
      "outputs": []
    },
    {
      "cell_type": "code",
      "source": [],
      "metadata": {
        "id": "n0gbfSRE2hTu"
      },
      "execution_count": null,
      "outputs": []
    },
    {
      "cell_type": "code",
      "source": [],
      "metadata": {
        "id": "ylyC4O3b2hX0"
      },
      "execution_count": null,
      "outputs": []
    },
    {
      "cell_type": "code",
      "source": [],
      "metadata": {
        "id": "1yBwoLwV2hbr"
      },
      "execution_count": null,
      "outputs": []
    },
    {
      "cell_type": "code",
      "source": [],
      "metadata": {
        "id": "2pjN3L442hfQ"
      },
      "execution_count": null,
      "outputs": []
    }
  ]
}