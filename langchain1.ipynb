{
 "cells": [
  {
   "cell_type": "code",
   "execution_count": 18,
   "metadata": {},
   "outputs": [],
   "source": [
    "import pandas as pd\n",
    "from sentence_transformers import SentenceTransformer, util\n",
    "from langchain.prompts import PromptTemplate\n",
    "from langchain.chains import LLMChain\n",
    "\n"
   ]
  },
  {
   "cell_type": "code",
   "execution_count": 19,
   "metadata": {},
   "outputs": [],
   "source": [
    "csv_file_path = 'C:/Users/sachu/Desktop/DB/db_split/db1.csv'\n",
    "df =pd.read_csv(csv_file_path)"
   ]
  },
  {
   "cell_type": "code",
   "execution_count": 20,
   "metadata": {},
   "outputs": [],
   "source": [
    "model = SentenceTransformer('paraphrase-MiniLM-L6-v2')\n"
   ]
  },
  {
   "cell_type": "code",
   "execution_count": 21,
   "metadata": {},
   "outputs": [],
   "source": [
    "prompt_template = PromptTemplate(\n",
    "    template=\"Compare the following resume and job description, and provide an ATS score out of 100.\\n\\nResume:\\n{Resume_str}\\n\\nJob Description:\\n{description}\\n\\nATS Score:\",\n",
    "    input_variables=[\"Resume_str\", \"description\"]\n",
    "\n",
    ")"
   ]
  },
  {
   "cell_type": "code",
   "execution_count": 22,
   "metadata": {},
   "outputs": [],
   "source": [
    "def calculate_ats_score(resume, job_description):\n",
    "    # Encode the resume and job description\n",
    "    embeddings = model.encode([resume, job_description])\n",
    "    # Calculate the cosine similarity between the embeddings\n",
    "    cosine_sim = util.cos_sim(embeddings[0], embeddings[1]).item()\n",
    "    # Scale the similarity to a score out of 100\n",
    "    score = int(cosine_sim * 100)\n",
    "    return score"
   ]
  },
  {
   "cell_type": "code",
   "execution_count": 26,
   "metadata": {},
   "outputs": [],
   "source": [
    "class CalculateATSScoreChain:\n",
    "    def __init__(self, model, prompt_template):\n",
    "        self.model = model\n",
    "        self.prompt_template = prompt_template\n",
    "\n",
    "    def run(self, inputs):\n",
    "        resume = inputs['Resume_str']\n",
    "        job_description = inputs['description']\n",
    "        return calculate_ats_score(resume, job_description)"
   ]
  },
  {
   "cell_type": "code",
   "execution_count": 27,
   "metadata": {},
   "outputs": [],
   "source": [
    "ats_score_chain = CalculateATSScoreChain(model, prompt_template)"
   ]
  },
  {
   "cell_type": "code",
   "execution_count": null,
   "metadata": {},
   "outputs": [],
   "source": [
    "df['ATS_score'] = df.apply(lambda row: ats_score_chain.run({\"Resume_str\": row['Resume_str'], \"description\": row['description']}), axis=1)\n"
   ]
  },
  {
   "cell_type": "code",
   "execution_count": 17,
   "metadata": {},
   "outputs": [],
   "source": [
    "df.to_csv(csv_file_path, index=False)"
   ]
  }
 ],
 "metadata": {
  "kernelspec": {
   "display_name": "Python 3",
   "language": "python",
   "name": "python3"
  },
  "language_info": {
   "codemirror_mode": {
    "name": "ipython",
    "version": 3
   },
   "file_extension": ".py",
   "mimetype": "text/x-python",
   "name": "python",
   "nbconvert_exporter": "python",
   "pygments_lexer": "ipython3",
   "version": "3.11.4"
  }
 },
 "nbformat": 4,
 "nbformat_minor": 2
}
